{
 "cells": [
  {
   "cell_type": "code",
   "execution_count": null,
   "id": "2f7781a9",
   "metadata": {},
   "outputs": [],
   "source": [
    "#1) What is the difference between enclosing a list comprehension in square brackets and\n",
    "#parentheses?\n",
    "\n",
    "Enclosing a list comprehension in square brackets returns a list.\n",
    "Enclosing a list comprehension in parantheses returns a generator object."
   ]
  },
  {
   "cell_type": "code",
   "execution_count": null,
   "id": "c97350c6",
   "metadata": {},
   "outputs": [],
   "source": [
    "#2) What is the relationship between generators and iterators?\n",
    "\n",
    "Iterators are the objects that use the next() method to get the next value of the sequence.Classes are used to implement \n",
    "the iterators.\n",
    "A generator is a function that produces or yields a sequence of values using a yield statement.they are useful when we want \n",
    "to produce a large sequence of values but we dont want to store all of them in memory at once.\n",
    "Every generator is an iterator but not vice versa."
   ]
  },
  {
   "cell_type": "code",
   "execution_count": null,
   "id": "13dc6c4e",
   "metadata": {},
   "outputs": [],
   "source": [
    "#3) What are the signs that a function is a generator function?\n",
    "\n",
    "Generator function uses a yield statement instead of return statement which returns an iterable object called generator."
   ]
  },
  {
   "cell_type": "code",
   "execution_count": null,
   "id": "bb26246b",
   "metadata": {},
   "outputs": [],
   "source": [
    "#4) What is the purpose of a yield statement?\n",
    "\n",
    "Each time you iterate, Python runs the code until it encounters a yield statement inside the function. \n",
    "Then, it sends the yielded value and pauses the function in that state without exiting.\n",
    "When the function is invoked the next time, the state at which it was last paused is remembered\n",
    "and execution is continued from that point onwards. This continues until the generator is exhausted."
   ]
  },
  {
   "cell_type": "code",
   "execution_count": null,
   "id": "bda90660",
   "metadata": {},
   "outputs": [],
   "source": [
    "#5) What is the relationship between map calls and list comprehensions? Make a comparison and\n",
    "#contrast between the two.\n",
    "\n",
    "List comprehension is more concise and easier to read as compared to map.\n",
    "List comprehension allows filtering. In map, we have no such facility.\n",
    "List comprehension are used when a list of results is required as map only returns a map object and does not return any list.\n",
    "List comprehension is faster than map when we need to evaluate expressions that are too long or complicated to express\n",
    "Map is faster in case of calling an already defined function (as no lambda is required)."
   ]
  }
 ],
 "metadata": {
  "kernelspec": {
   "display_name": "Python 3 (ipykernel)",
   "language": "python",
   "name": "python3"
  },
  "language_info": {
   "codemirror_mode": {
    "name": "ipython",
    "version": 3
   },
   "file_extension": ".py",
   "mimetype": "text/x-python",
   "name": "python",
   "nbconvert_exporter": "python",
   "pygments_lexer": "ipython3",
   "version": "3.10.9"
  }
 },
 "nbformat": 4,
 "nbformat_minor": 5
}
